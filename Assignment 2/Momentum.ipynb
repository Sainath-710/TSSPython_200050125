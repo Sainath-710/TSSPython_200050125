{
  "nbformat": 4,
  "nbformat_minor": 0,
  "metadata": {
    "colab": {
      "name": "Momentum.ipynb",
      "provenance": [],
      "collapsed_sections": []
    },
    "kernelspec": {
      "name": "python3",
      "display_name": "Python 3"
    },
    "language_info": {
      "name": "python"
    }
  },
  "cells": [
    {
      "cell_type": "markdown",
      "metadata": {
        "id": "U1k32GLIm1o5"
      },
      "source": [
        "## Momentum \n",
        "\n",
        "Momentum-based Trading is based on the assumption that Stocks which have performed will in the past, will perform better in the coming future.\n",
        " \n",
        "To define 'past', we take a variable **N**, and say that : \n",
        "\n",
        "<centre> Momentum(For A particular stock) = Close Price(Today) - Close Price(N-day ago) </centre>\n",
        "\n",
        "This gives us our first hyper-parameter (parameters of the model which could be changed in order to improve the model) : **N**\n",
        "\n",
        "We would also be reshuffling our [Portfolio](https://www.investopedia.com/terms/p/portfolio.asp) at certain intervals of time, which gives us our second hyper-parameter: **T** (The time after which we'll be reshuffling our Portfolio)\n",
        "\n",
        "Its never suggested to keep all your money invested, you must have some risk-free assets as well, so that even if you lose some of your cash in trading, you could still place better bets and regain that lost cash, Thus, We get our third Hyper-parameter: **R**, The Ratio of Total Balance, which we will using for investing.\n",
        "\n",
        "You will not be investing in all the 30 Tickers now, Will you? You will choose the top few stocks, which show the highest promise in terms of Momentum, which brings us to another hyper-parameter: **M**, The Number of Top few stocks (based on Momentum), which you'll keep in your Portfolio.\n",
        "\n",
        "Finally, There's some brokerage fee which you need to pay in order to place orders on the stock market, typically its less than 0.5% of the total amount : **F**\n"
      ]
    },
    {
      "cell_type": "code",
      "metadata": {
        "id": "GpkE6S0ZjSlB"
      },
      "source": [
        "#Importing Required Libraries\n",
        "import pandas as pd\n",
        "import numpy as np\n",
        "import datetime\n",
        "import random\n",
        "import matplotlib.pyplot as plt\n",
        "import seaborn as sns\n",
        "\n",
        "#Declaring the Hyperparameters\n",
        "\n",
        "N = 100\n",
        "T = 2\n",
        "R = 0.8\n",
        "M = 5\n",
        "F = 0.005   # 0.5% Brokerage fee"
      ],
      "execution_count": 30,
      "outputs": []
    },
    {
      "cell_type": "markdown",
      "metadata": {
        "id": "DwPazs3-q618"
      },
      "source": [
        "The Second step would be to define a function which reads the Prices of various Stocks into memory.\n",
        "\n",
        "In the file DATA.csv , which we had uploaded in our repository, we have prices of 30 firms enlisted in S & P 500 Index (Apple, IBM, Cisco, Walmart and the like!) from 2nd January 2009 to 17th August 2020.\n",
        "\n",
        "For our purposes, We'll only be requiring certain columns. On an honest note, Just getting the Columns on Ticker, Date and Adjusted Closing Price would do the job, but if you want, you may take Opening Price as well.\n",
        "\n",
        "Read up about the [pandas.read_csv](https://pandas.pydata.org/docs/reference/api/pandas.read_csv.html) function from here, and figure out how you'll use it to do the job (You don't need all the columns!) "
      ]
    },
    {
      "cell_type": "code",
      "metadata": {
        "id": "9rsbAPafuUk1"
      },
      "source": [
        "def GetData(NameOfFile):\n",
        "  #START CODE HERE\n",
        "  result = pd.read_csv(NameOfFile,usecols = [\"datadate\",\"tic\",\"adjcp\"])\n",
        "  return result # pd.DataFrame Object"
      ],
      "execution_count": 4,
      "outputs": []
    },
    {
      "cell_type": "markdown",
      "metadata": {
        "id": "qkWJ29Kquf2B"
      },
      "source": [
        "To aid Data-Manipulation, it would be beneficial, if we split the DataFrame into many small parts each corresponding to the data corresponding to the 30 Tickers on a particular date. These small parts could then be stored in a list.\n",
        "\n",
        "We would also be needing to remember which date is at what index, so that we can use that later. "
      ]
    },
    {
      "cell_type": "code",
      "metadata": {
        "id": "d4HLxmu9HTl8"
      },
      "source": [
        "def PartitionData(Data):\n",
        "  \n",
        "  DateToIndex = {}\n",
        "  PartitionDataFrameList = []\n",
        "  datesList = list(Data[\"datadate\"])\n",
        "  for i in range(0,len(datesList)):\n",
        "    datesList[i] = str(datesList[i])\n",
        "    datesList[i] = datesList[i][0:4] + '-' + datesList[i][4:6] + '-' + datesList[i][6:8]\n",
        "  ticList = list(Data[\"tic\"])\n",
        "  adjcpList = list(Data[\"adjcp\"])\n",
        "  index_list = 0\n",
        "  index_frame = 0\n",
        "  for i in range(0,int(len(datesList)/30)):\n",
        "    dataFrameElement = {}\n",
        "    dataFrameElement[\"tic\"] = ticList[index_frame:index_frame + 30]\n",
        "    dataFrameElement[\"adjcp\"] = adjcpList[index_frame:index_frame + 30]\n",
        "    dataFrameElement = pd.DataFrame(dataFrameElement)\n",
        "    PartitionDataFrameList.append(dataFrameElement)\n",
        "    DateToIndex[datesList[index_frame]] = []\n",
        "    DateToIndex[datesList[index_frame]].append(index_frame/30)\n",
        "    index_frame = index_frame + 30\n",
        "\n",
        "  return (PartitionDataFrameList, DateToIndex)   #List containing of the Data Partitioned according to Date,#\n",
        "                                                  #and the Dictionary mapping Dates to their index in the list#\n"
      ],
      "execution_count": 6,
      "outputs": []
    },
    {
      "cell_type": "markdown",
      "metadata": {
        "id": "peRRNuUQOnVM"
      },
      "source": [
        "Now, We need a function to calculate the Momentum value for all of our 30 Tickers.\n",
        "To do this, We need to have a few things in mind:\n",
        "\n",
        "\n",
        "1.   We need to start at Nth day in our list, as only then we'll be able to calculate the Momentum (This will be taken care of by later parts of the Program, when we actually run the Model)\n",
        "\n",
        "2.   The Stock Market isn't open on all days, so we often won't be able to go N days behind, and will have to take the closest value instead(We can't just go N entries behind in the List we created and expect that to work, Why?) In order to work with dates, you should get to know more about the datetime library of Python from [here](https://thispointer.com/python-how-to-convert-datetime-object-to-string-using-datetime-strftime/) (Especially the datetime.strftime() function) and about the [datetime.timedelta()](https://www.studytonight.com/python-howtos/how-to-add-days-to-date-in-python) function.\n",
        "\n",
        "Also, as you may have figured it out yourself, while DataFrames are great for Data Handling and small statistical calculations, They aren't so for big calculations as the Numpy Library has both a richer variety of functions for such manipulations and is also more efficient!\n",
        "\n",
        "After we calculate the Momentum for all our Tickers, it would be a great thing to do, if we could divide their prices by their mean(in the N day interval, as we need to see which stock outperforms others and in order to do this, it won't be fair if we take the absolute growth in numbers!(Why?)\n",
        "\n"
      ]
    },
    {
      "cell_type": "code",
      "metadata": {
        "id": "tMKHAcBnSG5n"
      },
      "source": [
        "def GetMomentumBasedPriority(PartitionedDataFrameList, DateToIndex ,today):\n",
        "  # PartitionedDataFrameList : Pandas DataFrame, The Output of your last function\n",
        "  # DateToIndex : Dictionary mapping dates to their index in the PartitionedDataFrameList\n",
        "  # today :  Today's date (string) In Format: YYYYMMDD\n",
        "\n",
        "\n",
        "  #NdaysAgo is a datatime.date() object contining the required data, you need to convert it to a string and then check if its\n",
        "  #actually there in the Data you have or will you have to get going using some other nearest date\n",
        "\n",
        "  NdaysAgo = datetime.date(int(today[0:4]),int(today[4:6]),int(today[6:])) + datetime.timedelta(days = -N)\n",
        "\n",
        "  #START CODE HERE!\n",
        "  Ndaysago = str(NdaysAgo)\n",
        "  if (Ndaysago<'2009-01-02'):\n",
        "    Ndaysago = '2009-01-02'\n",
        "  while (Ndaysago not in DateToIndex.keys() and Ndaysago!='2009-01-02'):\n",
        "    NdaysAgo = NdaysAgo + datetime.timedelta(days = -1)\n",
        "    Ndaysago = str(NdaysAgo)\n",
        "  Today = today[0:4] + '-' + today[4:6] + '-' + today[6:8]\n",
        "  index_today = int(DateToIndex[Today][0])\n",
        "  index_NdaysAgo = int(DateToIndex[Ndaysago][0])\n",
        "  adjcpList_NdaysAgo = PartitionedDataFrameList[index_NdaysAgo][\"adjcp\"]\n",
        "  adjcpList_today = PartitionedDataFrameList[index_today][\"adjcp\"]\n",
        "  l = []\n",
        "  MomentumArray = []\n",
        "  for i in range(0,30):\n",
        "    l.append([])\n",
        "    MomentumArray.append([])\n",
        "  for i in  range(index_NdaysAgo,index_today + 1):\n",
        "    for j in range(0,30):\n",
        "      l[j].append(PartitionedDataFrameList[i][\"adjcp\"][j])\n",
        "  for j in range(0,30):\n",
        "    l[j] = np.array(l[j])\n",
        "  for i in range(0,30):\n",
        "        MomentumArray[i] = (adjcpList_today[i] - adjcpList_NdaysAgo[i])/(l[i].mean())\n",
        "  MomentumArray = np.array(MomentumArray)\n",
        "\n",
        "\n",
        "  return MomentumArray   #Numpy Array containing the Momentum divided by mean(in the N-day period considered) of all the 30 tickers, in the required order.\n"
      ],
      "execution_count": 7,
      "outputs": []
    },
    {
      "cell_type": "markdown",
      "metadata": {
        "id": "s5QOHJ9Ra00l"
      },
      "source": [
        "Even after you have got your Momentum-based priorities, and have decided which stocks to buy and what will be the weight of each, you still need to figure out how much of each will you buy. To do this, first you'll sell all your pre-owned stocks which will increase your cash in hand, then you'll know the stocks to buy and their relative weights (given by their Momentum/mean) and you need a function which tells you how many stocks to buy for each ticker!"
      ]
    },
    {
      "cell_type": "code",
      "metadata": {
        "id": "cQg8OWVg_qo5"
      },
      "source": [
        "def GetBalanced(prices, weights,balance):\n",
        "  # prices : Numpy array containing Prices of all the 30 Stocks\n",
        "  # weights : Multi-hot Numpy Array : The Elements corresponding to stocks which are to be bought(Top M Stocks with positive Momentum Indicator) are set to their priority, All other elements are set to zero.\n",
        "  # Returns Numpy array containing the number of shares to buy for each stock!\n",
        "  l = []\n",
        "  investible_money = R*balance\n",
        "  weighted_coefficient = 0\n",
        "  for i in range(0,30):\n",
        "    weighted_coefficient = weighted_coefficient + prices[i]*weights[i]  \n",
        "  NumberOfStocks = []\n",
        "  for i in range(0,30):\n",
        "    if weighted_coefficient!=0:\n",
        "      NumberOfStocks.append((weights[i]*investible_money)/weighted_coefficient)\n",
        "    else:\n",
        "      NumberOfStocks.append(0)\n",
        "  NumberOfStocks = np.array(NumberOfStocks)\n",
        "\n",
        "  return NumberOfStocks"
      ],
      "execution_count": 8,
      "outputs": []
    },
    {
      "cell_type": "markdown",
      "metadata": {
        "id": "WWN9ri-rIb3e"
      },
      "source": [
        "Now, We need something to simulate our [Portfolio](https://www.investopedia.com/terms/p/portfolio.asp). In order to do that we need a class, which has certain  basic features and functionalities.\n",
        "\n",
        "Features : \n",
        "\n",
        "\n",
        "1.   Your Initial Balance\n",
        "2.   Your Current Balance\n",
        "3.   A list(/any other container) storing the number of stocks of each ticker currently in possession. (Numpy Array prefered)\n",
        "4.   Most recent prices of all the stocks (As a Numpy array)\n",
        "\n",
        "Functionalities: \n",
        "\n",
        "\n",
        "\n",
        "1.   Calculating current Net Worth (Balance+Total Evaluation of all Stocks owned!) \n",
        "2.   Buying a Particular Stock (Keep the Transaction fee in mind!)\n",
        "3.   Selling a particular Stock whole (Keep the Transaction Fee in mind!)\n",
        "4.   Rebalance Portfolio  (Takes Numpy array as input)\n",
        "5.   Function to change the value of most recent prices stored (Takes Numpy array as input)\n",
        "\n",
        "\n",
        "\n"
      ]
    },
    {
      "cell_type": "code",
      "metadata": {
        "id": "gi60d9qUNO0_"
      },
      "source": [
        "class PortFolio:\n",
        "  def __init__(self,InitialBalance,CurrentBalance,CurrentNumberOfStocks,StockPrices):\n",
        "    self.InitialBalance = InitialBalance\n",
        "    self.CurrentBalance = CurrentBalance\n",
        "    self.CurrentNumberOfStocks = CurrentNumberOfStocks\n",
        "    self.StockPrices = StockPrices\n",
        "\n",
        "  def SellStock(self,index):\n",
        "  #index : The index of the Stock to sell (0-29)\n",
        "    self.CurrentBalance = self.CurrentBalance + (self.CurrentNumberOfStocks[index])*(self.StockPrices[index])\n",
        "    self.CurrentNumberOfStocks[index] = 0\n",
        "    \n",
        "  \n",
        "  def BuyStock(self,index, number):\n",
        "  #index : The index of the Stock to buy (0-29) \n",
        "  #number : Number of shares to buy (float)\n",
        "    self.CurrentBalance = self.CurrentBalance - (self.StockPrices[index])*number \n",
        "    self.CurrentNumberOfStocks[index] = self.CurrentNumberOfStocks[index] + number\n",
        "\n",
        "  def CalculateNetWorth(self):\n",
        "  #Return Net Worth (All Shares' costs+ Balance)\n",
        "    CurrentNetWorth = 0\n",
        "    for i in range(0,30):\n",
        "      CurrentNetWorth = CurrentNetWorth + (self.CurrentNumberOfStocks[i])*(self.StockPrices[i])\n",
        "    CurrentNetWorth = CurrentNetWorth + self.CurrentBalance\n",
        "    return CurrentNetWorth\n",
        "\n",
        "\n",
        "  def ChangePricesTo(self,newPriceVector):\n",
        "  # newPriceVector : Numpy array containing the prices of all the stocks for the current day\n",
        "    for i in range(0,30):\n",
        "      self.StockPrices[i] = newPriceVector[i]\n",
        "\n",
        "  def RebalancePortFolio(self,newWeights):  \n",
        "    # newWeights : Numpy array containing Momentum/Mean for all stocks in the N-day period\n",
        "    # First sell all your pre-owned Stock (make sure to take transaction fee into account!)\n",
        "    # This would change your total balance\n",
        "    # Then take the top M(/might be less than M, if >(30-M) had negative Momentum) and send them to the GetBalanced() Function\n",
        "    # Then take that output and pass them to the BuyStocks function!\n",
        "    Transaction = 0\n",
        "    for i in range(0,30):\n",
        "      Transaction = Transaction + (self.CurrentNumberOfStocks[i])*(self.StockPrices[i])\n",
        "      self.SellStock(i)\n",
        "    self.CurrentBalance = self.CurrentBalance - F*Transaction\n",
        "    Transaction = 0\n",
        "    newWeights = list(newWeights)\n",
        "    PriorityArray = list(newWeights)\n",
        "    indices = []\n",
        "    PriorityArray.sort()\n",
        "    for i in range(0,30):\n",
        "      indices.append(newWeights.index(PriorityArray[i]))\n",
        "    for i in range(0,M):\n",
        "      if (PriorityArray[29-i]<0):\n",
        "        PriorityArray[29-i] = 0\n",
        "    for i in range(0,30-M):\n",
        "      PriorityArray[i] = 0\n",
        "    dummyArray = []\n",
        "    for i in range(0,30):\n",
        "      dummyArray.append(0)\n",
        "    for i in range(0,30):\n",
        "      dummyArray[indices[i]] = PriorityArray[i]\n",
        "    PriorityArray = dummyArray\n",
        "    PriorityArray = np.array(PriorityArray)\n",
        "    PurchaseInfo = GetBalanced(self.StockPrices, PriorityArray, self.CurrentBalance)\n",
        "    for i in range(0,30):\n",
        "      Transaction = Transaction + (self.StockPrices[i])*(PurchaseInfo[i])\n",
        "      self.BuyStock(i, PurchaseInfo[i])    \n",
        "    self.CurrentBalance = self.CurrentBalance - F*Transaction\n",
        "\n",
        "\n"
      ],
      "execution_count": 9,
      "outputs": []
    },
    {
      "cell_type": "markdown",
      "metadata": {
        "id": "PKiLs-6TB6mU"
      },
      "source": [
        "With that the difficult part is over!\n",
        "\n",
        "Now, all you need to work on is a main loop, which calls all these functions"
      ]
    },
    {
      "cell_type": "code",
      "metadata": {
        "id": "zjo2KrcaCmqf"
      },
      "source": [
        "Today = '2010-01-26'\n",
        "\n",
        "#myPortfolio = PortFolio(________)\n",
        "NetWorthAfterEachTrade = []\n",
        "NetWorthAfterEachTradeNormal = []\n",
        "\n",
        "\n",
        "#First Get the Data\n",
        "Data = GetData(\"DATA.csv\")\n",
        "PartitionedData = PartitionData(Data)[0]\n",
        "DateToIndex = PartitionData(Data)[1]\n",
        "DatesList = list(DateToIndex)\n",
        "#print(PartitionedData)\n",
        "index_today = int(DateToIndex[Today][0])\n",
        "OriginalN = N\n",
        "NumberOfTradingDays = 1\n",
        "NumberOfTradingDaysArray = []\n",
        "NumberOfDaysElapsed = 0\n",
        "#\n",
        "\n",
        "NDaysAgo = datetime.date(int(Today[0:4]),int(Today[5:7]),int(Today[8:])) + datetime.timedelta(days = -N)\n",
        "NDaysAgo_str = str(NDaysAgo)\n",
        "if (NDaysAgo_str<'2009-01-02'):\n",
        "  NDaysAgo = datetime.date(2009,1,2)\n",
        "  NDaysAgo_str = '2009-01-02'\n",
        "while (NDaysAgo_str not in DateToIndex.keys() and NDaysAgo_str!='2009-01-02'):\n",
        "  NDaysAgo = NDaysAgo + datetime.timedelta(days = -1)\n",
        "  NDaysAgo_str = str(NDaysAgo)\n",
        "index_NDaysAgo = int(DateToIndex[NDaysAgo_str][0])\n",
        "\n",
        "CurrentStocks = []\n",
        "for i in range(0,30):\n",
        "  n = random.randint(0,10)\n",
        "  CurrentStocks.append(n)\n",
        "print(\"Stocks at the beginning: \")\n",
        "print(CurrentStocks)\n",
        "\n",
        "today = datetime.date(int(Today[0:4]),int(Today[5:7]),int(Today[8:])) + datetime.timedelta(days = -N + 1)\n",
        "today_str = str(today)\n",
        "if (today_str<'2009-01-02'):\n",
        "  today_str = '2009-01-02'\n",
        "while (today_str not in DateToIndex.keys() and today_str!='2009-01-02'):\n",
        "  today = today + datetime.timedelta(days = 1)\n",
        "  today_str = str(today)\n",
        "index_start = int(DateToIndex[today_str][0]) \n",
        "myPortFolio = PortFolio(0,10000,CurrentStocks,(PartitionedData[index_NDaysAgo].loc[:,'adjcp']).copy())\n",
        "\n",
        "for i in range(index_start,index_today + 1):\n",
        "  #Start processing from the (N+1)th Day(among the ones recorded in the Data)\n",
        "  # Change the Prices to the ith Term\n",
        "  # Get NetWorth and store in list\n",
        "  # Check if you need to rebalance Portfolio's Today\n",
        "  # If so, do it by Calling first the GetMomentumBasedPriority function and then passing it to the rebalance function\n",
        "  NumberOfTradingDaysArray.append(NumberOfTradingDays)\n",
        "  Date = DatesList[i]\n",
        "  today = datetime.date(int(Date[0:4]), int(Date[5:7]), int(Date[8:]))\n",
        "  today_str = str(today)\n",
        "  print(today_str)\n",
        "  NumberOfDaysElapsed = str(today - NDaysAgo)\n",
        "  k = 1\n",
        "  while (NumberOfDaysElapsed[k]!=\" \"):\n",
        "    k = k + 1\n",
        "  N = int(NumberOfDaysElapsed[:k])\n",
        "  x = PartitionedData[i]\n",
        "  myPortFolio.ChangePricesTo(x.loc[:,'adjcp'])\n",
        "  y = myPortFolio.CalculateNetWorth()\n",
        "  NetWorthAfterEachTradeNormal.append(y)\n",
        "  if (NumberOfTradingDays%T == 0):\n",
        "    arr = GetMomentumBasedPriority(PartitionedData,DateToIndex,today_str[0:4] + today_str[5:7] + today_str[8:10])\n",
        "    myPortFolio.RebalancePortFolio(arr)\n",
        "  y = myPortFolio.CalculateNetWorth()\n",
        "  print(y)\n",
        "  NetWorthAfterEachTrade.append(y)\n",
        "  NumberOfTradingDays = NumberOfTradingDays + 1\n",
        "  "
      ],
      "execution_count": null,
      "outputs": []
    },
    {
      "cell_type": "markdown",
      "metadata": {
        "id": "rHB126bDE2Kn"
      },
      "source": [
        "##Moment of Truth\n",
        "\n",
        "Time to check, if your Program actually works!\n",
        "\n",
        "Plot the data you collected in various ways and see if what you did worked!\n",
        "\n",
        "Feel free to use whichever one of Matplotlib or Seaborn you want to.\n",
        "\n",
        "You should try changing the hyper-parameters to increase(/decrease) your performance!\n"
      ]
    },
    {
      "cell_type": "code",
      "metadata": {
        "id": "Z3AVQq09FxYm",
        "colab": {
          "base_uri": "https://localhost:8080/",
          "height": 265
        },
        "outputId": "71dc2daa-70ae-47a8-8ee6-4990bddead07"
      },
      "source": [
        "def VizualizeData(NumberOfTradingDaysArray,NetWorthAfterEachTradeNormal,NetWorthAfterEachTrade):\n",
        "  plt.plot(NumberOfTradingDaysArray,NetWorthAfterEachTrade,color = 'red')\n",
        "  plt.plot(NumberOfTradingDaysArray,NetWorthAfterEachTradeNormal,color = 'green')\n",
        "\n",
        "VizualizeData(NumberOfTradingDaysArray,NetWorthAfterEachTrade,NetWorthAfterEachTradeNormal)\n",
        "\n",
        "\n",
        "\n",
        "\n",
        "\n",
        "  "
      ],
      "execution_count": 36,
      "outputs": [
        {
          "output_type": "display_data",
          "data": {
            "image/png": "[encoded data removed]",
            "text/plain": [
              "<Figure size 432x288 with 1 Axes>"
            ]
          },
          "metadata": {
            "tags": [],
            "needs_background": "light"
          }
        }
      ]
    },
    {
      "cell_type": "markdown",
      "metadata": {
        "id": "cZoWhY8X9BSR"
      },
      "source": [
        "You may use this cell to write about what results you got!\n",
        "\n",
        "My Results:\n",
        "\n",
        "I have plotted two curves:\n",
        "\n",
        "(i)Green curve represents the net worth after each trade without any strategy being implemented.\n",
        "\n",
        "(ii)Red curve reprsents the net worth after each trade when momentum strategy is implemented.\n",
        "\n",
        "We can see that the Momentum strategy does give us profits compared to a situation when we don't use it.\n",
        "\n",
        "I also observed that the smaller the value of T, more is the profit.\n",
        "\n",
        "The difference between the two curves can be better appreciated when N is small.Different kinds of results can be obtained by changing the value of 'Today' in the main cell"
      ]
    }
  ]
}