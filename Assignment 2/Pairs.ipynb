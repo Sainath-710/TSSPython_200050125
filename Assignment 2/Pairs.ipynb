{
  "nbformat": 4,
  "nbformat_minor": 0,
  "metadata": {
    "colab": {
      "name": "Pairs.ipynb",
      "provenance": [],
      "collapsed_sections": []
    },
    "kernelspec": {
      "name": "python3",
      "display_name": "Python 3"
    },
    "language_info": {
      "name": "python"
    }
  },
  "cells": [
    {
      "cell_type": "markdown",
      "metadata": {
        "id": "dBmd8kyLfMIg"
      },
      "source": [
        "## Paired Switching\n",
        "\n",
        "The idea behind this strategy is that if the assets are negatively correlated, then a traditional mixed portfolio might lead to a lower return than the return for the individual assets.\n",
        "\n",
        "We periodically compute the Co-relation Coefficients' Matrix and choose pair of stocks which have the most negative co-relations and trade in them. The basic idea being that if one of them would fall, then the other would rise and hence, we must switch between them!\n",
        "\n",
        "We need a re-balancing period ,i.e. The time after which we would be again calculating the co-relations and taking a different pair of stocks : **T**\n",
        "\n",
        "We would also need to keep switching between these selected stocks in a pair at a certain interval of time : **P**\n",
        "\n",
        "Next, We need to specify how many such pairs would we be trading in : **M**\n",
        "\n",
        "The Fraction of the total balance we would be investing on every turn : **R**\n",
        "\n",
        "The Brokerage Fee as a fraction of the total transaction amount : **F**\n",
        "\n"
      ]
    },
    {
      "cell_type": "code",
      "metadata": {
        "id": "KhmpNcaUextd"
      },
      "source": [
        "import numpy as np\n",
        "import pandas as pd\n",
        "import datetime\n",
        "import random\n",
        "import matplotlib.pyplot as plt\n",
        "import seaborn as sns\n",
        "\n",
        "T = 100\n",
        "N = 10\n",
        "P = 7\n",
        "M = 4\n",
        "R = 0.8\n",
        "F = 0.0005"
      ],
      "execution_count": 62,
      "outputs": []
    },
    {
      "cell_type": "markdown",
      "metadata": {
        "id": "6zepnFA0xjvI"
      },
      "source": [
        "### Few Upcoming Functions(GetData and PartitionData) would be similar to the ones you encountered in the Momentum Assignment (Feel free to Copy-Paste your code from there!)"
      ]
    },
    {
      "cell_type": "markdown",
      "metadata": {
        "id": "YZQH1NuRyGLy"
      },
      "source": [
        "In the file DATA.csv , which we had uploaded in our repository, we have prices of 30 firms enlisted in S & P 500 Index (Apple, IBM, Cisco, Walmart and the like!) from 2nd January 2009 to 17th August 2020.\n",
        "\n",
        "For our purposes, We'll only be requiring certain columns. On an honest note, Just getting the Columns on Ticker, Date and Adjusted Closing Price would do the job, but if you want, you may take Opening Price as well.\n",
        "\n",
        "Read up about the [pandas.read_csv](https://pandas.pydata.org/docs/reference/api/pandas.read_csv.html) function from here, and figure out how you'll use it to do the job (You don't need all the columns!) "
      ]
    },
    {
      "cell_type": "code",
      "metadata": {
        "id": "Ka_L9Ne6yOGY"
      },
      "source": [
        "def GetData(NameOfFile):\n",
        "  #START CODE HERE\n",
        "  result = pd.read_csv(NameOfFile,usecols = [\"datadate\",\"tic\",\"adjcp\"])\n",
        "  return result # pd.DataFrame Object"
      ],
      "execution_count": 46,
      "outputs": []
    },
    {
      "cell_type": "markdown",
      "metadata": {
        "id": "xJILaZUYySQW"
      },
      "source": [
        "To aid Data-Manipulation, it would be beneficial, if we split the DataFrame into many small parts each corresponding to the data corresponding to the 30 Tickers on a particular date. These small parts could then be stored in a list.\n",
        "\n",
        "We would also be needing to remember which date is at what index, so that we can use that later. "
      ]
    },
    {
      "cell_type": "code",
      "metadata": {
        "id": "I0jUbPe_yiGU"
      },
      "source": [
        "def PartitionData(Data):\n",
        "  \n",
        "  DateToIndex = {}\n",
        "  PartitionDataFrameList = []\n",
        "  datesList = list(Data[\"datadate\"])\n",
        "  for i in range(0,len(datesList)):\n",
        "    datesList[i] = str(datesList[i])\n",
        "    datesList[i] = datesList[i][0:4] + '-' + datesList[i][4:6] + '-' + datesList[i][6:8]\n",
        "  ticList = list(Data[\"tic\"])\n",
        "  adjcpList = list(Data[\"adjcp\"])\n",
        "  index_list = 0\n",
        "  index_frame = 0\n",
        "  for i in range(0,int(len(datesList)/30)):\n",
        "    dataFrameElement = {}\n",
        "    dataFrameElement[\"tic\"] = ticList[index_frame:index_frame + 30]\n",
        "    dataFrameElement[\"adjcp\"] = adjcpList[index_frame:index_frame + 30]\n",
        "    dataFrameElement = pd.DataFrame(dataFrameElement)\n",
        "    PartitionDataFrameList.append(dataFrameElement)\n",
        "    DateToIndex[datesList[index_frame]] = []\n",
        "    DateToIndex[datesList[index_frame]].append(index_frame/30)\n",
        "    index_frame = index_frame + 30\n",
        "\n",
        "  return (PartitionDataFrameList, DateToIndex)   #List containing of the Data Partitioned according to Date,#\n",
        "                                                  #and the Dictionary mapping Dates to their index in the list#\n",
        "\n",
        "#Getting data ready(Global variables)\n",
        "Data = GetData(\"DATA.csv\")\n",
        "PartitionedData, DateToIndex = PartitionData(Data)[0], PartitionData(Data)[1]\n",
        "today = T"
      ],
      "execution_count": 47,
      "outputs": []
    },
    {
      "cell_type": "markdown",
      "metadata": {
        "id": "abBu6bdrqpcD"
      },
      "source": [
        "Now, We need a function which takes as input a pair of stocks (as indices in range 0-29), Today's date,  alongwith the Partitioned DataFrames which will tell us which of the two stocks has a better outlook for the future, and we'll simply move all our Money from one of them to the other. \n",
        "\n",
        "This will be done once in every **P** trading sessions.\n",
        "\n",
        "You could choose between the two stocks in a number of ways, the simplest of which can be what you did in the last assignment, the Momentum Indicator (i.e. Take the difference between the prices of the stocks in a certain number of days and do your deed! Remember this number of days **N** must be <= **T**)\n",
        "\n",
        "You may also use other indicators like [RSI](https://www.investopedia.com/terms/r/rsi.asp), [Stochs](https://www.investopedia.com/terms/s/stochasticoscillator.asp), [MACD](https://www.investopedia.com/terms/m/macd.asp) or anything else! (If you decide to use MACD or RSI, you could either implement other functions to calculate them or simply change your ParitionData() function to get the MACD and RSI values as they are already stored there for you!)\n",
        "\n",
        "You need not worry about getting the nearest dates (or dates at all) in this case, because all you care about is co-relations in long term and growth in short-term so it doesn't matter if you're ahead or behind a few days!\n",
        "\n",
        "'today' would be an index(integer), i.e. an index on the PartitionedDataFrames list denoting where we are at currently!\n",
        "\n",
        "Also, as you may have figured it out yourself, while DataFrames are great for Data Handling and small statistical calculations, They aren't so for big calculations as the Numpy Library has both a richer variety of functions for such manipulations and is also more efficient!\n"
      ]
    },
    {
      "cell_type": "code",
      "metadata": {
        "id": "hUViRxVXwrB5"
      },
      "source": [
        "def Switch(firstStock, SecondStock, today ,PartitionedDataFrames):\n",
        "  result = 0\n",
        "  if (today>=N):\n",
        "    Momentum_firstStock = PartitionedDataFrames[today][\"adjcp\"][firstStock] - PartitionedDataFrames[today - N][\"adjcp\"][firstStock]\n",
        "    Momentum_secondStock = PartitionedDataFrames[today][\"adjcp\"][SecondStock] - PartitionedDataFrames[today - N][\"adjcp\"][SecondStock]\n",
        "    firstStockValues = []\n",
        "    secondStockValues = []\n",
        "    for i in range(today - N, today):\n",
        "      firstStockValues.append(PartitionedDataFrames[i][\"adjcp\"][firstStock])\n",
        "      secondStockValues.append(PartitionedDataFrames[i][\"adjcp\"][SecondStock])\n",
        "  else:\n",
        "    Momentum_firstStock = PartitionedDataFrames[today][\"adjcp\"][firstStock] - PartitionedDataFrames[0][\"adjcp\"][firstStock]\n",
        "    Momentum_secondStock = PartitionedDataFrames[today][\"adjcp\"][SecondStock] - PartitionedDataFrames[0][\"adjcp\"][SecondStock]\n",
        "    firstStockValues = []\n",
        "    secondStockValues = []\n",
        "    for i in range(0, today):\n",
        "      firstStockValues.append(PartitionedDataFrames[i][\"adjcp\"][firstStock])\n",
        "      secondStockValues.append(PartitionedDataFrames[i][\"adjcp\"][SecondStock])\n",
        "\n",
        "  firstStockValues = np.array(firstStockValues)\n",
        "  secondStockValues = np.array(secondStockValues)\n",
        "  Momentum_firstStock = Momentum_firstStock/firstStockValues.mean()\n",
        "  Momentum_secondStock = Momentum_secondStock/secondStockValues.mean()\n",
        "\n",
        "  if (Momentum_firstStock>=Momentum_secondStock):\n",
        "    result = firstStock\n",
        "  else:\n",
        "    result = SecondStock\n",
        "  return result      #One of two(firstStock/SecondStock) depending on which should grow more in the future.\n"
      ],
      "execution_count": 48,
      "outputs": []
    },
    {
      "cell_type": "markdown",
      "metadata": {
        "id": "CBZqJ_CszZbL"
      },
      "source": [
        "Now, We need something to simulate our [Portfolio](https://www.investopedia.com/terms/p/portfolio.asp). In order to do that we need a class, which has certain  basic features and functionalities.\n",
        "\n",
        "(Again some of the functions here, would be same as the previous assignment, so feel free to Copy-Paste)\n",
        "\n",
        "Features : \n",
        "\n",
        "\n",
        "1.   Your Initial Balance\n",
        "2.   Your Current Balance (Money which isn't invested!)\n",
        "3.   A list(/any other container) storing the number of stocks of each ticker currently in possession. (Numpy Array prefered)\n",
        "4.   Most recent prices of all the stocks (As a Numpy array)\n",
        "5.   A list of **M** or less(as it might be that less than **M** stocks are negatively co-related) Tuples of indices (i,j) where i and j are the indices (from 0-29) of stocks which are negatively co-related.\n",
        "\n",
        "Functionalities: \n",
        "\n",
        "\n",
        "\n",
        "1.   Calculating current Net Worth (Balance+Total Evaluation of all Stocks owned!) \n",
        "2.   Buying a Particular Stock (Keep the Transaction fee in mind!)\n",
        "3.   Selling a particular Stock whole (Keep the Transaction Fee in mind!)\n",
        "4.   Change Pairs (**T** period intervals) (Takes PartitionedDataFrame, DateT and today's date as input)\n",
        "5.   Rebalance Portfolio (**P** period intervals) (Takes O)\n",
        "6.   Function to change the value of most recent prices stored (Takes Numpy array as input)\n",
        "\n",
        "\n",
        "You may want to know about Numpy's Corrcoef ([np.corrcoef](https://numpy.org/doc/stable/reference/generated/numpy.corrcoef.html)) function!\n"
      ]
    },
    {
      "cell_type": "code",
      "metadata": {
        "id": "SFJOHvgS1aq0"
      },
      "source": [
        "class PortFolio:\n",
        "  def __init__(self,InitialBalance, CurrentBalance,CurrentNumberOfStocks,StockPrices,SwitchablePairs): \n",
        "    #Initialize all variables\n",
        "    self.InitialBalance = InitialBalance\n",
        "    self.CurrentBalance = CurrentBalance\n",
        "    self.CurrentNumberOfStocks = CurrentNumberOfStocks\n",
        "    self.StockPrices = StockPrices\n",
        "    self.SwitchablePairs = SwitchablePairs\n",
        "\n",
        "  def SellStock(self, index):\n",
        "    #index : The index of the Stock to sell (0-29)\n",
        "    self.CurrentBalance = self.CurrentBalance - F*(self.CurrentNumberOfStocks[index])*(self.StockPrices[index])\n",
        "    self.CurrentBalance = self.CurrentBalance + (self.CurrentNumberOfStocks[index])*(self.StockPrices[index])\n",
        "    self.CurrentNumberOfStocks[index] = 0\n",
        "  \n",
        "  def BuyStock(self,index, number):\n",
        "    #index : The index of the Stock to buy (0-29) \n",
        "    #number : Number of shares to buy (float)\n",
        "    self.CurrentBalance = self.CurrentBalance - ((self.StockPrices[index])*number)*(1 + F)\n",
        "    self.CurrentNumberOfStocks[index] = self.CurrentNumberOfStocks[index] + number\n",
        "\n",
        "  def CalculateNetWorth(self):\n",
        "    #Return Net Worth (All Shares' costs+ Balance)\n",
        "    CurrentNetWorth = 0\n",
        "    for i in range(0,30):\n",
        "      CurrentNetWorth = CurrentNetWorth + (self.CurrentNumberOfStocks[i])*(self.StockPrices[i])\n",
        "    CurrentNetWorth = CurrentNetWorth + self.CurrentBalance\n",
        "    return CurrentNetWorth\n",
        "\n",
        "\n",
        "  def ChangePricesTo(self,newPriceVector):\n",
        "    # newPriceVector : Numpy array containing the prices of all the stocks for the current day\n",
        "    for i in range(0,30):\n",
        "      self.StockPrices[i] = newPriceVector[i]\n",
        "\n",
        "  def ChangePairs(self):  \n",
        "    # Calls the Switch function for all the pairs of stocks owned\n",
        "    for i in self.SwitchablePairs:\n",
        "      firstStock = i[0]\n",
        "      secondStock = i[1]\n",
        "      if Switch(firstStock,secondStock,today,PartitionedData) == i[0]:\n",
        "        numberOfFirstStocks = (self.CurrentNumberOfStocks[i[1]])*(self.StockPrices[i[1]])/(self.StockPrices[i[0]])\n",
        "        self.SellStock(i[1])\n",
        "        self.BuyStock(i[0],numberOfFirstStocks)\n",
        "      else:\n",
        "        numberOfSecondStocks = (self.CurrentNumberOfStocks[i[0]])*(self.StockPrices[i[0]])/(self.StockPrices[i[1]])\n",
        "        self.SellStock(i[0])\n",
        "        self.BuyStock(i[1],numberOfSecondStocks)\n",
        "  \n",
        "  def RebalancePortfolio(self):\n",
        "    # Calculates the Co-relation Matrix and changes the list of pairs, which you'll be using to trade\n",
        "    # You'll have to take care of cases, where a single stock would be involved in two or more of the most negatively co-related Stocks\n",
        "    # It would be a good idea, to call BuyStock and SellStock from here itself, instead of calling ChangePairs later as it will cause havoc that way\n",
        "    Prices = (pd.read_csv(\"DATA.csv\",usecols = [\"adjcp\"]))\n",
        "    Prices = list(Prices[\"adjcp\"])\n",
        "    Prices = Prices[:today*30]\n",
        "    StockPrices = []  #Two-dimensional array.Contains 30 one-dimensional arrays \n",
        "                      #Where the i-th 1D-array contains the prices of the i-th stock in the given period(from the start to today)\n",
        "    for i in range(0,30):\n",
        "      StockPrices.append([])\n",
        "    for i in range(0,int(len(Prices)/30)):\n",
        "      for k in range(0,30):\n",
        "        StockPrices[k].append(Prices[30*i + k])\n",
        "\n",
        "    CorrelationMatrix = np.zeros((30,30))\n",
        "    for i in range(0,30):\n",
        "      for j in range(0, i + 1):\n",
        "        CorrelationMatrix[i][j] = np.corrcoef(StockPrices[i],StockPrices[j])[0,1]   #Matrix version of StockPrices\n",
        "\n",
        "    CorrelationList = []\n",
        "    CorrelationMatrix = list(CorrelationMatrix)\n",
        "\n",
        "    for i in range(0,30):\n",
        "      for j in range(0, i + 1):\n",
        "        CorrelationList.append(CorrelationMatrix[i][j]) #List version of CorrelationMatrix, useful for sorting\n",
        "\n",
        "    CorrelationList.sort() \n",
        "    Indices = [] #Indices contains the index of each element of sorted CorrelationList in CorrelationMatrix\n",
        "    for i in range(0,435):\n",
        "      for j in range(0,30):\n",
        "        for k in range(0,j + 1):\n",
        "          if (abs(CorrelationList[i] - CorrelationMatrix[j][k])<1e-7):\n",
        "            Indices.append((j,k))  \n",
        "\n",
        "    IndicesTaken = []  #Indices which have already been taken into SwitchPairs\n",
        "    for i in range(0,30):\n",
        "      IndicesTaken.append(0)\n",
        "\n",
        "    x = 0\n",
        "    PairsObtained = 0\n",
        "    SwitchPairs = []   #Pairs(tuples) of indices which can be switched.Repetition is not allowed.IndicesTaken is used to serve this purpose.\n",
        "    while (PairsObtained<=M and CorrelationList[x]<0):\n",
        "      if CorrelationList[x]<0:\n",
        "       pos = Indices[x]\n",
        "      if  (IndicesTaken[pos[0]] == 0 and IndicesTaken[pos[1]] == 0):\n",
        "        SwitchPairs.append(pos)\n",
        "        PairsObtained+=1\n",
        "        x = x + 1\n",
        "        IndicesTaken[pos[0]] = 1\n",
        "        IndicesTaken[pos[1]] = 1\n",
        "      else:\n",
        "        x = x + 1\n",
        "    self.SwitchablePairs = SwitchPairs\n"
      ],
      "execution_count": 56,
      "outputs": []
    },
    {
      "cell_type": "markdown",
      "metadata": {
        "id": "S2Sv0OPB6QiL"
      },
      "source": [
        "With that the difficult part is over!\n",
        "\n",
        "Now, all you need to work on is a main loop, which calls all these functions"
      ]
    },
    {
      "cell_type": "code",
      "metadata": {
        "id": "8qTWYyDn6mjt"
      },
      "source": [
        "NetWorthAfterEachTrade = []\n",
        "NetWorthAfterEachTradeNormal = [] #Array for storing worth after each trade when no strategy is used\n",
        "\n",
        "NumberOfTradingDays = 1\n",
        "DaysSinceLastSwitch = 1\n",
        "CurrentStocks = []\n",
        "for i in range(0,30):\n",
        "  n = random.randint(0,10)\n",
        "  CurrentStocks.append(n)\n",
        "print(CurrentStocks)\n",
        "myPortFolio = PortFolio(0,10000,CurrentStocks,(PartitionedData[today].loc[:,'adjcp']).copy(),[])\n",
        "\n",
        "for i in range(T,int(len(DateToIndex))):\n",
        "  a = PartitionedData[i]\n",
        "  myPortFolio.ChangePricesTo(a[\"adjcp\"])\n",
        "  worth = myPortFolio.CalculateNetWorth()\n",
        "  NetWorthAfterEachTradeNormal.append(worth)\n",
        "  NumberOfTradingDays+=1\n",
        "\n",
        "NumberOfTradingDays = 1\n",
        "NumberOfTradingDaysArray = [] #Array containing the trading days, useful for plotting\n",
        "\n",
        "#Start processing from the (T+1)th Day(among the ones recorded in the Data)\n",
        "for i in range(T,int(len(DateToIndex))):\n",
        "  # Change the Prices to the ith Term\n",
        "  # Get NetWorth and store in list\n",
        "  # Check if you need to rebalance Portfolio's Today\n",
        "  # Check if you need to switch stocks today\n",
        "  NumberOfTradingDaysArray.append(NumberOfTradingDays)\n",
        "  a = PartitionedData[i]\n",
        "  myPortFolio.ChangePricesTo(a[\"adjcp\"])\n",
        "  if (NumberOfTradingDays%T == 0):\n",
        "    myPortFolio.RebalancePortfolio() #Rebalance after every T days\n",
        "  if (DaysSinceLastSwitch%P == 0):\n",
        "    myPortFolio.ChangePairs() #Switch Pairs after P days\n",
        "  worth = myPortFolio.CalculateNetWorth()\n",
        "  NetWorthAfterEachTrade.append(worth)\n",
        "  NumberOfTradingDays+=1\n",
        "  DaysSinceLastSwitch+=1\n",
        "\n",
        "for i in NetWorthAfterEachTrade:\n",
        "  print(i)  \n"
      ],
      "execution_count": null,
      "outputs": []
    },
    {
      "cell_type": "markdown",
      "metadata": {
        "id": "kwewPN3O6yIF"
      },
      "source": [
        "You may need to declare the PartitionedData list global, depending on your implementation of the Above snippet as well as the various functions in the Portfolio class."
      ]
    },
    {
      "cell_type": "markdown",
      "metadata": {
        "id": "7JBJY3YU7M2C"
      },
      "source": [
        "##Moment of Truth\n",
        "\n",
        "Time to check, if your Program actually works!\n",
        "\n",
        "Plot the data you collected in various ways (Profits, PercentageProfits etc.) and see if what you did worked!\n",
        "\n",
        "Feel free to use whichever one of Matplotlib or Seaborn you want to.\n",
        "\n",
        "Feel free to copy-paste your code from the previous assignment!"
      ]
    },
    {
      "cell_type": "code",
      "metadata": {
        "id": "lPQny8RK7tmN",
        "colab": {
          "base_uri": "https://localhost:8080/",
          "height": 265
        },
        "outputId": "e440d349-c218-4b26-abcc-d0efb094150b"
      },
      "source": [
        "def VizualizeData(NumberOfTradingDaysArray,NetWorthAfterEachTradeNormal,NetWorthAfterEachTrade):\n",
        "  plt.plot(NumberOfTradingDaysArray,NetWorthAfterEachTrade,color = 'red')\n",
        "  plt.plot(NumberOfTradingDaysArray,NetWorthAfterEachTradeNormal,color = 'green')\n",
        "\n",
        "VizualizeData(NumberOfTradingDaysArray,NetWorthAfterEachTrade,NetWorthAfterEachTradeNormal)\n",
        "  "
      ],
      "execution_count": 74,
      "outputs": [
        {
          "output_type": "display_data",
          "data": {
            "image/png": "[encoded data removed]",
            "text/plain": [
              "<Figure size 432x288 with 1 Axes>"
            ]
          },
          "metadata": {
            "tags": [],
            "needs_background": "light"
          }
        }
      ]
    },
    {
      "cell_type": "markdown",
      "metadata": {
        "id": "lsAUyiuk9r6v"
      },
      "source": [
        "You may use this cell to write about your results/performance of the model!\n",
        "\n",
        "Here, I have plotted two results:\n",
        "\n",
        "(i)Red curve represents the plot of Net Worth as a function of day number when Paired Switching is used.\n",
        "\n",
        "(ii)Green curve represents the plot of Net Worth as a function of Day number when no Paired Switching is used.\n",
        "Also, the initial number of stocks of each kind are decided randomly so tht there is no bias.\n",
        "\n",
        "In most of the cases, we can clearly observe that the red curve lies above the green curve and sometimes, the high difference in heights between the two curves can also be appreciated.Running the program a few number of times makes the above statements clear.\n",
        "\n"
      ]
    }
  ]
}